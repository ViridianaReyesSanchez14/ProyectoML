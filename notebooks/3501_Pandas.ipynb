{
 "cells": [
  {
   "cell_type": "markdown",
   "id": "46812d24-6321-48c5-9f98-ce37dd1a927b",
   "metadata": {},
   "source": [
    "# Introduccion a Pandas"
   ]
  },
  {
   "cell_type": "markdown",
   "id": "0f19b994-aae5-4318-9bad-3c41fc931b02",
   "metadata": {},
   "source": [
    "[Pandas](https://pandas.pydata.org/docs/) es una biblioteca que propociona estructuras de datos y herramientas de analisis  de alto rendimiento y faciles de usar.\n",
    "* La estructura de datos proncipal es el DataFrame que puede considerarse comouna tabla 2D en memoria (Comouna hoja de calculo , nombres de columnas y etiquetas de fila).\n",
    "* Muchas funciones disponibles en excel estan disponibles mediante programacion como crear las tablas dinamicas, clcular colunmas basadas en otras columnas , trazar gradicos, etc.\n",
    "* Proporciona un alto rendimiento para manipular (unir, dividir,modificar,etc.) grandes volumenes de datos "
   ]
  },
  {
   "cell_type": "markdown",
   "id": "665c19da-0142-4f4a-b1fd-d304b61150a4",
   "metadata": {},
   "source": [
    "# import"
   ]
  },
  {
   "cell_type": "code",
   "execution_count": 1,
   "id": "ac2288fc-518f-4559-894e-0419518e3863",
   "metadata": {},
   "outputs": [],
   "source": [
    "import pandas as pd"
   ]
  },
  {
   "cell_type": "markdown",
   "id": "05ff9e2c-a061-471f-94c4-71a3baed6ba8",
   "metadata": {},
   "source": [
    "### Estructuras de datos en pandas"
   ]
  },
  {
   "cell_type": "markdown",
   "id": "4851dea5-83ee-42c0-9b82-3a351149434b",
   "metadata": {},
   "source": [
    "La biblioteca pandas, de manera generica, contiene las siguientes estructuras de datos:\n",
    "* **Series**:Array de una dimencion.\n",
    "* **DataFrame**: Se corresponde con una tabla de dos dimenciones.\n",
    "* **Panel**: Simular a un de DataFrames.\n"
   ]
  },
  {
   "cell_type": "markdown",
   "id": "2dc10e7e-92fa-4a26-b315-5cda1c73362e",
   "metadata": {},
   "source": [
    "# Creacion del ojeto series"
   ]
  },
  {
   "cell_type": "code",
   "execution_count": 2,
   "id": "409a241a-0aae-48a0-b546-a9f194ba9d7e",
   "metadata": {},
   "outputs": [
    {
     "name": "stdout",
     "output_type": "stream",
     "text": [
      "0     2\n",
      "1     4\n",
      "2     6\n",
      "3     8\n",
      "4    10\n",
      "dtype: int64\n"
     ]
    }
   ],
   "source": [
    "# Creacion del objeto series.\n",
    "s= pd.Series ([2, 4, 6, 8, 10])\n",
    "print(s)\n"
   ]
  },
  {
   "cell_type": "code",
   "execution_count": 3,
   "id": "1204e563-9427-44ae-96b0-99a17c7c2a79",
   "metadata": {},
   "outputs": [
    {
     "name": "stdout",
     "output_type": "stream",
     "text": [
      "Emilio    169\n",
      "Anel      145\n",
      "Jesus     170\n",
      "jefa      170\n",
      "dtype: int64\n"
     ]
    }
   ],
   "source": [
    "# creacion de un objeto series e inicializarlo con un diccionario de python\n",
    "altura = {\"Emilio\": 169, \"Anel\":145, \"Jesus\":170,\"jefa\":170}\n",
    "s= pd.Series(altura)\n",
    "print(s)"
   ]
  },
  {
   "cell_type": "code",
   "execution_count": 4,
   "id": "f92cfcac-b4ee-4ef1-b2c5-a2df0b7e0a5c",
   "metadata": {},
   "outputs": [
    {
     "name": "stdout",
     "output_type": "stream",
     "text": [
      "jefa      170\n",
      "Emilio    169\n",
      "dtype: int64\n"
     ]
    }
   ],
   "source": [
    "# Creacion de un objeto Series e inicializarlo con algunos elementos de un diccionario de python.\n",
    "altura = {\"Emilio\": 169, \"Anel\":145, \"Jesus\":170,\"jefa\":170}\n",
    "s = pd.Series(altura, index=[\"jefa\",\"Emilio\"])\n",
    "print(s)"
   ]
  },
  {
   "cell_type": "code",
   "execution_count": 5,
   "id": "474cc0ed-b395-4b4b-98ee-9a0d118da170",
   "metadata": {},
   "outputs": [
    {
     "name": "stdout",
     "output_type": "stream",
     "text": [
      "num1    34\n",
      "num2    34\n",
      "num3    34\n",
      "num4    34\n",
      "dtype: int64\n"
     ]
    }
   ],
   "source": [
    "# Creacion de un objeto Series he inicializarlo con un escalar\n",
    "s = pd.Series(34, [\"num1\", \"num2\", \"num3\",\"num4\"])\n",
    "print(s)"
   ]
  },
  {
   "cell_type": "markdown",
   "id": "145b1204-107c-4ac6-8c44-ee391b912f48",
   "metadata": {},
   "source": [
    "### Acceso a lo elementos de un Array\n",
    "Cada elemento en un objeto Series tiene un identificador quese denomina **Index label**."
   ]
  },
  {
   "cell_type": "code",
   "execution_count": 6,
   "id": "b140d688-3bb0-4d2f-b5dc-b4916c4cc113",
   "metadata": {},
   "outputs": [
    {
     "name": "stdout",
     "output_type": "stream",
     "text": [
      "num1    2\n",
      "num2    4\n",
      "num3    6\n",
      "num4    8\n",
      "dtype: int64\n"
     ]
    }
   ],
   "source": [
    "# Crear un objeti Series.\n",
    "s = pd.Series ([2, 4, 6, 8], index=[\"num1\",\"num2\",\"num3\",\"num4\"])\n",
    "print(s)"
   ]
  },
  {
   "cell_type": "code",
   "execution_count": 7,
   "id": "f729f9ee-f4c3-4265-930a-675216e8ecbd",
   "metadata": {},
   "outputs": [
    {
     "data": {
      "text/plain": [
       "np.int64(6)"
      ]
     },
     "execution_count": 7,
     "metadata": {},
     "output_type": "execute_result"
    }
   ],
   "source": [
    "# Aceder al tercer elemento del objeto\n",
    "s[\"num3\"]"
   ]
  },
  {
   "cell_type": "code",
   "execution_count": 8,
   "id": "54e801e4-8053-4b36-a98a-cb25fc6fad99",
   "metadata": {},
   "outputs": [
    {
     "name": "stderr",
     "output_type": "stream",
     "text": [
      "/tmp/ipykernel_48022/1191963456.py:2: FutureWarning: Series.__getitem__ treating keys as positions is deprecated. In a future version, integer keys will always be treated as labels (consistent with DataFrame behavior). To access a value by position, use `ser.iloc[pos]`\n",
      "  s[2]\n"
     ]
    },
    {
     "data": {
      "text/plain": [
       "np.int64(6)"
      ]
     },
     "execution_count": 8,
     "metadata": {},
     "output_type": "execute_result"
    }
   ],
   "source": [
    "# Tambien se puede acceder por posicion.\n",
    "s[2]"
   ]
  },
  {
   "cell_type": "code",
   "execution_count": 9,
   "id": "92faeb94-3793-40a0-bd67-5086baddc18c",
   "metadata": {},
   "outputs": [
    {
     "data": {
      "text/plain": [
       "np.int64(6)"
      ]
     },
     "execution_count": 9,
     "metadata": {},
     "output_type": "execute_result"
    }
   ],
   "source": [
    "# loc es la forma estandar de acceder a un elemento de un objeto Series\n",
    "s.loc[\"num3\"]"
   ]
  },
  {
   "cell_type": "code",
   "execution_count": 10,
   "id": "9658df3a-b88a-4136-a152-84424b564b56",
   "metadata": {},
   "outputs": [
    {
     "data": {
      "text/plain": [
       "np.int64(6)"
      ]
     },
     "execution_count": 10,
     "metadata": {},
     "output_type": "execute_result"
    }
   ],
   "source": [
    "# iloc est la forma estandar de acceder a un elemento de un objeto series por posicion \n",
    "s.iloc[2]"
   ]
  },
  {
   "cell_type": "code",
   "execution_count": 11,
   "id": "a6587067-9b0d-4e54-bcad-477b17abe0a0",
   "metadata": {},
   "outputs": [
    {
     "data": {
      "text/plain": [
       "num3    6\n",
       "num4    8\n",
       "dtype: int64"
      ]
     },
     "execution_count": 11,
     "metadata": {},
     "output_type": "execute_result"
    }
   ],
   "source": [
    "# Acediendo al segundo y al tercer elemento por posicion \n",
    "s.iloc[2:4]"
   ]
  },
  {
   "cell_type": "markdown",
   "id": "c14390bc-d1c4-4b27-9eda-288351fa8e38",
   "metadata": {},
   "source": [
    "### Operaciones aritmeticas con series"
   ]
  },
  {
   "cell_type": "code",
   "execution_count": 12,
   "id": "b11e0f2f-8681-47d0-8263-28fcb783ba62",
   "metadata": {},
   "outputs": [
    {
     "name": "stdout",
     "output_type": "stream",
     "text": [
      "0     2\n",
      "1     4\n",
      "2     6\n",
      "3     8\n",
      "4    10\n",
      "dtype: int64\n"
     ]
    }
   ],
   "source": [
    "# Crear un objeto series\n",
    "s = pd.Series([2,4,6,8,10])\n",
    "print(s)"
   ]
  },
  {
   "cell_type": "code",
   "execution_count": 13,
   "id": "9a4da8a2-5964-40ed-b2f4-9900bfa4788e",
   "metadata": {},
   "outputs": [
    {
     "data": {
      "text/plain": [
       "np.int64(30)"
      ]
     },
     "execution_count": 13,
     "metadata": {},
     "output_type": "execute_result"
    }
   ],
   "source": [
    "# los objetos series son similares y compatibles con los arrays de Numpy.\n",
    "import numpy as np\n",
    "# ufunc de numpy para sumar los elementos.\n",
    "np.sum(s)"
   ]
  },
  {
   "cell_type": "code",
   "execution_count": 14,
   "id": "b8af2c2f-f80a-47f4-9895-cb3cba7a97c1",
   "metadata": {},
   "outputs": [
    {
     "data": {
      "text/plain": [
       "0     4\n",
       "1     8\n",
       "2    12\n",
       "3    16\n",
       "4    20\n",
       "dtype: int64"
      ]
     },
     "execution_count": 14,
     "metadata": {},
     "output_type": "execute_result"
    }
   ],
   "source": [
    "s*2\n"
   ]
  },
  {
   "cell_type": "markdown",
   "id": "9ce612a6-1454-486b-9a0c-014e2b0de2a1",
   "metadata": {},
   "source": [
    "### Reprecentacion grafica de un objeto series"
   ]
  },
  {
   "cell_type": "code",
   "execution_count": 15,
   "id": "aa0e00d7-0630-4bde-b7b6-170db847a310",
   "metadata": {},
   "outputs": [
    {
     "data": {
      "text/plain": [
       "0    4.1\n",
       "1    5.1\n",
       "2    6.1\n",
       "3    6.2\n",
       "4    6.1\n",
       "5    5.7\n",
       "6    5.2\n",
       "7    4.7\n",
       "8    4.1\n",
       "9    3.9\n",
       "Name: Temperaturas, dtype: float64"
      ]
     },
     "execution_count": 15,
     "metadata": {},
     "output_type": "execute_result"
    }
   ],
   "source": [
    "# Crear un objeto series denominado Temperaturas.\n",
    "Temperaturas = [4.1 , 5.1 ,6.1,6.2,6.1, 5.7,5.2,4.7,4.1,3.9]\n",
    "s= pd.Series(Temperaturas, name=\"Temperaturas\")\n",
    "s"
   ]
  },
  {
   "cell_type": "code",
   "execution_count": 16,
   "id": "9e36cb4a-ad3c-4a2f-a7a3-214251893e8e",
   "metadata": {},
   "outputs": [
    {
     "data": {
      "image/png": "[encoded data removed]",
      "text/plain": [
       "<Figure size 640x480 with 1 Axes>"
      ]
     },
     "metadata": {},
     "output_type": "display_data"
    }
   ],
   "source": [
    "# Representacion grafica del objeto series\n",
    "%matplotlib inline\n",
    "import matplotlib.pyplot as plt\n",
    "\n",
    "s.plot()\n",
    "plt.show()"
   ]
  },
  {
   "cell_type": "markdown",
   "id": "f894fc1e-48cb-405d-8c21-9e71ba39d132",
   "metadata": {},
   "source": [
    "# Creacion de un objeto DataFrame"
   ]
  },
  {
   "cell_type": "code",
   "execution_count": 17,
   "id": "5a6b3230-4e8e-4e3f-a15e-5d06891a52eb",
   "metadata": {},
   "outputs": [
    {
     "data": {
      "text/html": [
       "<div>\n",
       "<style scoped>\n",
       "    .dataframe tbody tr th:only-of-type {\n",
       "        vertical-align: middle;\n",
       "    }\n",
       "\n",
       "    .dataframe tbody tr th {\n",
       "        vertical-align: top;\n",
       "    }\n",
       "\n",
       "    .dataframe thead th {\n",
       "        text-align: right;\n",
       "    }\n",
       "</style>\n",
       "<table border=\"1\" class=\"dataframe\">\n",
       "  <thead>\n",
       "    <tr style=\"text-align: right;\">\n",
       "      <th></th>\n",
       "      <th>Peso</th>\n",
       "      <th>Altura</th>\n",
       "      <th>Mascotas</th>\n",
       "    </tr>\n",
       "  </thead>\n",
       "  <tbody>\n",
       "    <tr>\n",
       "      <th>Anel</th>\n",
       "      <td>60</td>\n",
       "      <td>145</td>\n",
       "      <td>2.0</td>\n",
       "    </tr>\n",
       "    <tr>\n",
       "      <th>Emilio</th>\n",
       "      <td>72</td>\n",
       "      <td>169</td>\n",
       "      <td>NaN</td>\n",
       "    </tr>\n",
       "    <tr>\n",
       "      <th>Jesus</th>\n",
       "      <td>74</td>\n",
       "      <td>170</td>\n",
       "      <td>NaN</td>\n",
       "    </tr>\n",
       "    <tr>\n",
       "      <th>jefa</th>\n",
       "      <td>73</td>\n",
       "      <td>70</td>\n",
       "      <td>9.0</td>\n",
       "    </tr>\n",
       "  </tbody>\n",
       "</table>\n",
       "</div>"
      ],
      "text/plain": [
       "        Peso  Altura  Mascotas\n",
       "Anel      60     145       2.0\n",
       "Emilio    72     169       NaN\n",
       "Jesus     74     170       NaN\n",
       "jefa      73      70       9.0"
      ]
     },
     "execution_count": 17,
     "metadata": {},
     "output_type": "execute_result"
    }
   ],
   "source": [
    "# Creacion de un DataFrame e inicializarlo con un diccionario de objetos series.\n",
    "Personas = {\n",
    "    \"Peso\": pd.Series([72, 60, 74, 73], [\"Emilio\", \"Anel\", \"Jesus\", \"jefa\"]) ,\n",
    "    \"Altura\": pd.Series({\"Emilio\": 169, \"Anel\": 145, \"Jesus\": 170, \"jefa\": 70}) ,\n",
    "    \"Mascotas\": pd.Series([2, 9], [\"Anel\", \"jefa\"])\n",
    "}\n",
    "\n",
    "df = pd.DataFrame(Personas)\n",
    "df"
   ]
  },
  {
   "cell_type": "markdown",
   "id": "24ca4262-f25f-4770-bd8b-89c1475cbfb2",
   "metadata": {},
   "source": [
    "# Es posible forzar al dataFrame a que presente determinadas columnas en orden determinado"
   ]
  },
  {
   "cell_type": "code",
   "execution_count": 18,
   "id": "2facfd81-2b52-4e51-bcfb-b7b87b5346ce",
   "metadata": {},
   "outputs": [
    {
     "data": {
      "text/html": [
       "<div>\n",
       "<style scoped>\n",
       "    .dataframe tbody tr th:only-of-type {\n",
       "        vertical-align: middle;\n",
       "    }\n",
       "\n",
       "    .dataframe tbody tr th {\n",
       "        vertical-align: top;\n",
       "    }\n",
       "\n",
       "    .dataframe thead th {\n",
       "        text-align: right;\n",
       "    }\n",
       "</style>\n",
       "<table border=\"1\" class=\"dataframe\">\n",
       "  <thead>\n",
       "    <tr style=\"text-align: right;\">\n",
       "      <th></th>\n",
       "      <th>Peso</th>\n",
       "      <th>Altura</th>\n",
       "      <th>Mascotas</th>\n",
       "    </tr>\n",
       "  </thead>\n",
       "  <tbody>\n",
       "    <tr>\n",
       "      <th>Anel</th>\n",
       "      <td>60</td>\n",
       "      <td>145</td>\n",
       "      <td>2.0</td>\n",
       "    </tr>\n",
       "    <tr>\n",
       "      <th>Emilio</th>\n",
       "      <td>72</td>\n",
       "      <td>169</td>\n",
       "      <td>NaN</td>\n",
       "    </tr>\n",
       "    <tr>\n",
       "      <th>Jesus</th>\n",
       "      <td>74</td>\n",
       "      <td>170</td>\n",
       "      <td>NaN</td>\n",
       "    </tr>\n",
       "    <tr>\n",
       "      <th>jefa</th>\n",
       "      <td>73</td>\n",
       "      <td>70</td>\n",
       "      <td>9.0</td>\n",
       "    </tr>\n",
       "  </tbody>\n",
       "</table>\n",
       "</div>"
      ],
      "text/plain": [
       "        Peso  Altura  Mascotas\n",
       "Anel      60     145       2.0\n",
       "Emilio    72     169       NaN\n",
       "Jesus     74     170       NaN\n",
       "jefa      73      70       9.0"
      ]
     },
     "execution_count": 18,
     "metadata": {},
     "output_type": "execute_result"
    }
   ],
   "source": [
    "# Creacion de un DataFrame e inicializarlo con un diccionario de objetos series.\n",
    "Personas = {\n",
    "    \"Peso\": pd.Series([72, 60, 74, 73], [\"Emilio\", \"Anel\", \"Jesus\", \"jefa\"]) ,\n",
    "    \"Altura\": pd.Series({\"Emilio\": 169, \"Anel\": 145, \"Jesus\": 170, \"jefa\": 70}) ,\n",
    "    \"Mascotas\": pd.Series([2, 9], [\"Anel\", \"jefa\"])\n",
    "}\n",
    "\n",
    "df = pd.DataFrame(Personas)\n",
    "df"
   ]
  },
  {
   "cell_type": "code",
   "execution_count": 19,
   "id": "6ad3e873-7036-41da-9882-d7c001d4cf1d",
   "metadata": {},
   "outputs": [
    {
     "data": {
      "text/plain": [
       "Anel      60\n",
       "Emilio    72\n",
       "Jesus     74\n",
       "jefa      73\n",
       "Name: Peso, dtype: int64"
      ]
     },
     "execution_count": 19,
     "metadata": {},
     "output_type": "execute_result"
    }
   ],
   "source": [
    "df[\"Peso\"]"
   ]
  },
  {
   "cell_type": "code",
   "execution_count": 20,
   "id": "6ae89cb1-8f69-4ede-ab12-d1616af0fe10",
   "metadata": {},
   "outputs": [
    {
     "data": {
      "text/html": [
       "<div>\n",
       "<style scoped>\n",
       "    .dataframe tbody tr th:only-of-type {\n",
       "        vertical-align: middle;\n",
       "    }\n",
       "\n",
       "    .dataframe tbody tr th {\n",
       "        vertical-align: top;\n",
       "    }\n",
       "\n",
       "    .dataframe thead th {\n",
       "        text-align: right;\n",
       "    }\n",
       "</style>\n",
       "<table border=\"1\" class=\"dataframe\">\n",
       "  <thead>\n",
       "    <tr style=\"text-align: right;\">\n",
       "      <th></th>\n",
       "      <th>Peso</th>\n",
       "      <th>Altura</th>\n",
       "    </tr>\n",
       "  </thead>\n",
       "  <tbody>\n",
       "    <tr>\n",
       "      <th>Anel</th>\n",
       "      <td>60</td>\n",
       "      <td>145</td>\n",
       "    </tr>\n",
       "    <tr>\n",
       "      <th>Emilio</th>\n",
       "      <td>72</td>\n",
       "      <td>169</td>\n",
       "    </tr>\n",
       "    <tr>\n",
       "      <th>Jesus</th>\n",
       "      <td>74</td>\n",
       "      <td>170</td>\n",
       "    </tr>\n",
       "    <tr>\n",
       "      <th>jefa</th>\n",
       "      <td>73</td>\n",
       "      <td>70</td>\n",
       "    </tr>\n",
       "  </tbody>\n",
       "</table>\n",
       "</div>"
      ],
      "text/plain": [
       "        Peso  Altura\n",
       "Anel      60     145\n",
       "Emilio    72     169\n",
       "Jesus     74     170\n",
       "jefa      73      70"
      ]
     },
     "execution_count": 20,
     "metadata": {},
     "output_type": "execute_result"
    }
   ],
   "source": [
    "df[[\"Peso\",\"Altura\"]]"
   ]
  },
  {
   "cell_type": "code",
   "execution_count": 21,
   "id": "33927dfc-8805-4ab0-ab07-d8de773e576a",
   "metadata": {},
   "outputs": [
    {
     "data": {
      "text/html": [
       "<div>\n",
       "<style scoped>\n",
       "    .dataframe tbody tr th:only-of-type {\n",
       "        vertical-align: middle;\n",
       "    }\n",
       "\n",
       "    .dataframe tbody tr th {\n",
       "        vertical-align: top;\n",
       "    }\n",
       "\n",
       "    .dataframe thead th {\n",
       "        text-align: right;\n",
       "    }\n",
       "</style>\n",
       "<table border=\"1\" class=\"dataframe\">\n",
       "  <thead>\n",
       "    <tr style=\"text-align: right;\">\n",
       "      <th></th>\n",
       "      <th>Peso</th>\n",
       "      <th>Altura</th>\n",
       "      <th>Mascotas</th>\n",
       "    </tr>\n",
       "  </thead>\n",
       "  <tbody>\n",
       "    <tr>\n",
       "      <th>Jesus</th>\n",
       "      <td>74</td>\n",
       "      <td>170</td>\n",
       "      <td>NaN</td>\n",
       "    </tr>\n",
       "    <tr>\n",
       "      <th>jefa</th>\n",
       "      <td>73</td>\n",
       "      <td>70</td>\n",
       "      <td>9.0</td>\n",
       "    </tr>\n",
       "  </tbody>\n",
       "</table>\n",
       "</div>"
      ],
      "text/plain": [
       "       Peso  Altura  Mascotas\n",
       "Jesus    74     170       NaN\n",
       "jefa     73      70       9.0"
      ]
     },
     "execution_count": 21,
     "metadata": {},
     "output_type": "execute_result"
    }
   ],
   "source": [
    "df[df[\"Peso\"]>72]"
   ]
  },
  {
   "cell_type": "markdown",
   "id": "0fbea0b3-fb2c-471d-bc3e-a00e0f1c8759",
   "metadata": {},
   "source": [
    "### Accediendo a los elementos de la fila de DataFrame."
   ]
  },
  {
   "cell_type": "code",
   "execution_count": 22,
   "id": "30b0a2d6-2eed-43cf-be45-a22d03560d08",
   "metadata": {},
   "outputs": [
    {
     "data": {
      "text/html": [
       "<div>\n",
       "<style scoped>\n",
       "    .dataframe tbody tr th:only-of-type {\n",
       "        vertical-align: middle;\n",
       "    }\n",
       "\n",
       "    .dataframe tbody tr th {\n",
       "        vertical-align: top;\n",
       "    }\n",
       "\n",
       "    .dataframe thead th {\n",
       "        text-align: right;\n",
       "    }\n",
       "</style>\n",
       "<table border=\"1\" class=\"dataframe\">\n",
       "  <thead>\n",
       "    <tr style=\"text-align: right;\">\n",
       "      <th></th>\n",
       "      <th>Peso</th>\n",
       "      <th>Altura</th>\n",
       "      <th>Mascotas</th>\n",
       "    </tr>\n",
       "  </thead>\n",
       "  <tbody>\n",
       "    <tr>\n",
       "      <th>Anel</th>\n",
       "      <td>60</td>\n",
       "      <td>145</td>\n",
       "      <td>2.0</td>\n",
       "    </tr>\n",
       "    <tr>\n",
       "      <th>Emilio</th>\n",
       "      <td>72</td>\n",
       "      <td>169</td>\n",
       "      <td>NaN</td>\n",
       "    </tr>\n",
       "    <tr>\n",
       "      <th>Jesus</th>\n",
       "      <td>74</td>\n",
       "      <td>170</td>\n",
       "      <td>NaN</td>\n",
       "    </tr>\n",
       "    <tr>\n",
       "      <th>jefa</th>\n",
       "      <td>73</td>\n",
       "      <td>70</td>\n",
       "      <td>9.0</td>\n",
       "    </tr>\n",
       "  </tbody>\n",
       "</table>\n",
       "</div>"
      ],
      "text/plain": [
       "        Peso  Altura  Mascotas\n",
       "Anel      60     145       2.0\n",
       "Emilio    72     169       NaN\n",
       "Jesus     74     170       NaN\n",
       "jefa      73      70       9.0"
      ]
     },
     "execution_count": 22,
     "metadata": {},
     "output_type": "execute_result"
    }
   ],
   "source": [
    "# Mostrar el DataFrame\n",
    "df"
   ]
  },
  {
   "cell_type": "code",
   "execution_count": 23,
   "id": "7fa9e0f0-23f6-4997-9f08-3cddbb907ab6",
   "metadata": {},
   "outputs": [
    {
     "data": {
      "text/plain": [
       "Peso         72.0\n",
       "Altura      169.0\n",
       "Mascotas      NaN\n",
       "Name: Emilio, dtype: float64"
      ]
     },
     "execution_count": 23,
     "metadata": {},
     "output_type": "execute_result"
    }
   ],
   "source": [
    "df.loc[\"Emilio\"]"
   ]
  },
  {
   "cell_type": "code",
   "execution_count": 24,
   "id": "fbb68057-d89e-45a0-9fca-3437cecc4106",
   "metadata": {},
   "outputs": [
    {
     "data": {
      "text/html": [
       "<div>\n",
       "<style scoped>\n",
       "    .dataframe tbody tr th:only-of-type {\n",
       "        vertical-align: middle;\n",
       "    }\n",
       "\n",
       "    .dataframe tbody tr th {\n",
       "        vertical-align: top;\n",
       "    }\n",
       "\n",
       "    .dataframe thead th {\n",
       "        text-align: right;\n",
       "    }\n",
       "</style>\n",
       "<table border=\"1\" class=\"dataframe\">\n",
       "  <thead>\n",
       "    <tr style=\"text-align: right;\">\n",
       "      <th></th>\n",
       "      <th>Peso</th>\n",
       "      <th>Altura</th>\n",
       "      <th>Mascotas</th>\n",
       "    </tr>\n",
       "  </thead>\n",
       "  <tbody>\n",
       "    <tr>\n",
       "      <th>Emilio</th>\n",
       "      <td>72</td>\n",
       "      <td>169</td>\n",
       "      <td>NaN</td>\n",
       "    </tr>\n",
       "    <tr>\n",
       "      <th>Jesus</th>\n",
       "      <td>74</td>\n",
       "      <td>170</td>\n",
       "      <td>NaN</td>\n",
       "    </tr>\n",
       "  </tbody>\n",
       "</table>\n",
       "</div>"
      ],
      "text/plain": [
       "        Peso  Altura  Mascotas\n",
       "Emilio    72     169       NaN\n",
       "Jesus     74     170       NaN"
      ]
     },
     "execution_count": 24,
     "metadata": {},
     "output_type": "execute_result"
    }
   ],
   "source": [
    "df.iloc[1:3]"
   ]
  },
  {
   "cell_type": "markdown",
   "id": "39fad727-0ceb-43d6-8670-836e2d59f371",
   "metadata": {},
   "source": [
    "## Consulta avanzada de los elementos de un DataFrame"
   ]
  },
  {
   "cell_type": "code",
   "execution_count": 25,
   "id": "3ab5c250-6563-4787-ac56-a51b2134f3fe",
   "metadata": {},
   "outputs": [
    {
     "data": {
      "text/html": [
       "<div>\n",
       "<style scoped>\n",
       "    .dataframe tbody tr th:only-of-type {\n",
       "        vertical-align: middle;\n",
       "    }\n",
       "\n",
       "    .dataframe tbody tr th {\n",
       "        vertical-align: top;\n",
       "    }\n",
       "\n",
       "    .dataframe thead th {\n",
       "        text-align: right;\n",
       "    }\n",
       "</style>\n",
       "<table border=\"1\" class=\"dataframe\">\n",
       "  <thead>\n",
       "    <tr style=\"text-align: right;\">\n",
       "      <th></th>\n",
       "      <th>Peso</th>\n",
       "      <th>Altura</th>\n",
       "      <th>Mascotas</th>\n",
       "    </tr>\n",
       "  </thead>\n",
       "  <tbody>\n",
       "    <tr>\n",
       "      <th>Anel</th>\n",
       "      <td>60</td>\n",
       "      <td>145</td>\n",
       "      <td>2.0</td>\n",
       "    </tr>\n",
       "    <tr>\n",
       "      <th>Emilio</th>\n",
       "      <td>72</td>\n",
       "      <td>169</td>\n",
       "      <td>NaN</td>\n",
       "    </tr>\n",
       "    <tr>\n",
       "      <th>Jesus</th>\n",
       "      <td>74</td>\n",
       "      <td>170</td>\n",
       "      <td>NaN</td>\n",
       "    </tr>\n",
       "    <tr>\n",
       "      <th>jefa</th>\n",
       "      <td>73</td>\n",
       "      <td>70</td>\n",
       "      <td>9.0</td>\n",
       "    </tr>\n",
       "  </tbody>\n",
       "</table>\n",
       "</div>"
      ],
      "text/plain": [
       "        Peso  Altura  Mascotas\n",
       "Anel      60     145       2.0\n",
       "Emilio    72     169       NaN\n",
       "Jesus     74     170       NaN\n",
       "jefa      73      70       9.0"
      ]
     },
     "execution_count": 25,
     "metadata": {},
     "output_type": "execute_result"
    }
   ],
   "source": [
    "# Mostrar el DataFrame\n",
    "df"
   ]
  },
  {
   "cell_type": "code",
   "execution_count": 26,
   "id": "a921a161-1712-4a6c-99bf-f406dc0bf51d",
   "metadata": {},
   "outputs": [
    {
     "data": {
      "text/html": [
       "<div>\n",
       "<style scoped>\n",
       "    .dataframe tbody tr th:only-of-type {\n",
       "        vertical-align: middle;\n",
       "    }\n",
       "\n",
       "    .dataframe tbody tr th {\n",
       "        vertical-align: top;\n",
       "    }\n",
       "\n",
       "    .dataframe thead th {\n",
       "        text-align: right;\n",
       "    }\n",
       "</style>\n",
       "<table border=\"1\" class=\"dataframe\">\n",
       "  <thead>\n",
       "    <tr style=\"text-align: right;\">\n",
       "      <th></th>\n",
       "      <th>Peso</th>\n",
       "      <th>Altura</th>\n",
       "      <th>Mascotas</th>\n",
       "    </tr>\n",
       "  </thead>\n",
       "  <tbody>\n",
       "    <tr>\n",
       "      <th>Jesus</th>\n",
       "      <td>74</td>\n",
       "      <td>170</td>\n",
       "      <td>NaN</td>\n",
       "    </tr>\n",
       "  </tbody>\n",
       "</table>\n",
       "</div>"
      ],
      "text/plain": [
       "       Peso  Altura  Mascotas\n",
       "Jesus    74     170       NaN"
      ]
     },
     "execution_count": 26,
     "metadata": {},
     "output_type": "execute_result"
    }
   ],
   "source": [
    "df.query(\"Altura>=170 and Peso > 73\")"
   ]
  },
  {
   "cell_type": "markdown",
   "id": "854f00b3-076f-47de-8f6c-b27bd08d4e68",
   "metadata": {},
   "source": [
    "## Copiar un DataFrame"
   ]
  },
  {
   "cell_type": "code",
   "execution_count": 27,
   "id": "20445c39-395a-4cce-b379-4097d9048a9b",
   "metadata": {},
   "outputs": [
    {
     "data": {
      "text/html": [
       "<div>\n",
       "<style scoped>\n",
       "    .dataframe tbody tr th:only-of-type {\n",
       "        vertical-align: middle;\n",
       "    }\n",
       "\n",
       "    .dataframe tbody tr th {\n",
       "        vertical-align: top;\n",
       "    }\n",
       "\n",
       "    .dataframe thead th {\n",
       "        text-align: right;\n",
       "    }\n",
       "</style>\n",
       "<table border=\"1\" class=\"dataframe\">\n",
       "  <thead>\n",
       "    <tr style=\"text-align: right;\">\n",
       "      <th></th>\n",
       "      <th>Peso</th>\n",
       "      <th>Altura</th>\n",
       "      <th>Mascotas</th>\n",
       "    </tr>\n",
       "  </thead>\n",
       "  <tbody>\n",
       "    <tr>\n",
       "      <th>Anel</th>\n",
       "      <td>60</td>\n",
       "      <td>145</td>\n",
       "      <td>2.0</td>\n",
       "    </tr>\n",
       "    <tr>\n",
       "      <th>Emilio</th>\n",
       "      <td>72</td>\n",
       "      <td>169</td>\n",
       "      <td>NaN</td>\n",
       "    </tr>\n",
       "    <tr>\n",
       "      <th>Jesus</th>\n",
       "      <td>74</td>\n",
       "      <td>170</td>\n",
       "      <td>NaN</td>\n",
       "    </tr>\n",
       "    <tr>\n",
       "      <th>jefa</th>\n",
       "      <td>73</td>\n",
       "      <td>70</td>\n",
       "      <td>9.0</td>\n",
       "    </tr>\n",
       "  </tbody>\n",
       "</table>\n",
       "</div>"
      ],
      "text/plain": [
       "        Peso  Altura  Mascotas\n",
       "Anel      60     145       2.0\n",
       "Emilio    72     169       NaN\n",
       "Jesus     74     170       NaN\n",
       "jefa      73      70       9.0"
      ]
     },
     "execution_count": 27,
     "metadata": {},
     "output_type": "execute_result"
    }
   ],
   "source": [
    "# Crear un DataFrame e inicializarlo con un diccionario de objetos series\n",
    "# Creacion de un DataFrame e inicializarlo con un diccionario de objetos series.\n",
    "Personas = {\n",
    "    \"Peso\": pd.Series([72, 60, 74, 73], [\"Emilio\", \"Anel\", \"Jesus\", \"jefa\"]) ,\n",
    "    \"Altura\": pd.Series({\"Emilio\": 169, \"Anel\": 145, \"Jesus\": 170, \"jefa\": 70}) ,\n",
    "    \"Mascotas\": pd.Series([2, 9], [\"Anel\", \"jefa\"])\n",
    "}\n",
    "\n",
    "df = pd.DataFrame(Personas)\n",
    "df"
   ]
  },
  {
   "cell_type": "code",
   "execution_count": 28,
   "id": "0a94e213-925e-47ab-8110-831fb757c893",
   "metadata": {},
   "outputs": [],
   "source": [
    "# Copia del DataFrame df en df_copy.\n",
    "# Nota: Al modificado de elemento del df_copy no se modifica df\n",
    "df_copy = df.copy()"
   ]
  },
  {
   "cell_type": "code",
   "execution_count": 29,
   "id": "efbdd2d9-3d12-4dae-aad7-2785ee3460bf",
   "metadata": {},
   "outputs": [],
   "source": [
    "## Modificacion de un DataFrame"
   ]
  },
  {
   "cell_type": "code",
   "execution_count": 30,
   "id": "e35d1501-9ead-4d00-a182-5763b18714dd",
   "metadata": {},
   "outputs": [
    {
     "data": {
      "text/html": [
       "<div>\n",
       "<style scoped>\n",
       "    .dataframe tbody tr th:only-of-type {\n",
       "        vertical-align: middle;\n",
       "    }\n",
       "\n",
       "    .dataframe tbody tr th {\n",
       "        vertical-align: top;\n",
       "    }\n",
       "\n",
       "    .dataframe thead th {\n",
       "        text-align: right;\n",
       "    }\n",
       "</style>\n",
       "<table border=\"1\" class=\"dataframe\">\n",
       "  <thead>\n",
       "    <tr style=\"text-align: right;\">\n",
       "      <th></th>\n",
       "      <th>Peso</th>\n",
       "      <th>Altura</th>\n",
       "      <th>Mascotas</th>\n",
       "      <th>Anio_Nacimiento</th>\n",
       "    </tr>\n",
       "  </thead>\n",
       "  <tbody>\n",
       "    <tr>\n",
       "      <th>Anel</th>\n",
       "      <td>60</td>\n",
       "      <td>145</td>\n",
       "      <td>2.0</td>\n",
       "      <td>2004</td>\n",
       "    </tr>\n",
       "    <tr>\n",
       "      <th>Emilio</th>\n",
       "      <td>72</td>\n",
       "      <td>169</td>\n",
       "      <td>NaN</td>\n",
       "      <td>2004</td>\n",
       "    </tr>\n",
       "    <tr>\n",
       "      <th>Jesus</th>\n",
       "      <td>74</td>\n",
       "      <td>170</td>\n",
       "      <td>NaN</td>\n",
       "      <td>2004</td>\n",
       "    </tr>\n",
       "    <tr>\n",
       "      <th>jefa</th>\n",
       "      <td>73</td>\n",
       "      <td>70</td>\n",
       "      <td>9.0</td>\n",
       "      <td>2004</td>\n",
       "    </tr>\n",
       "  </tbody>\n",
       "</table>\n",
       "</div>"
      ],
      "text/plain": [
       "        Peso  Altura  Mascotas  Anio_Nacimiento\n",
       "Anel      60     145       2.0             2004\n",
       "Emilio    72     169       NaN             2004\n",
       "Jesus     74     170       NaN             2004\n",
       "jefa      73      70       9.0             2004"
      ]
     },
     "execution_count": 30,
     "metadata": {},
     "output_type": "execute_result"
    }
   ],
   "source": [
    "df[\"Anio_Nacimiento\"]=[2004, 2004, 2004, 2004]\n",
    "df"
   ]
  },
  {
   "cell_type": "code",
   "execution_count": 31,
   "id": "b13eea87-d097-4624-a97f-b147fce874d6",
   "metadata": {},
   "outputs": [
    {
     "data": {
      "text/html": [
       "<div>\n",
       "<style scoped>\n",
       "    .dataframe tbody tr th:only-of-type {\n",
       "        vertical-align: middle;\n",
       "    }\n",
       "\n",
       "    .dataframe tbody tr th {\n",
       "        vertical-align: top;\n",
       "    }\n",
       "\n",
       "    .dataframe thead th {\n",
       "        text-align: right;\n",
       "    }\n",
       "</style>\n",
       "<table border=\"1\" class=\"dataframe\">\n",
       "  <thead>\n",
       "    <tr style=\"text-align: right;\">\n",
       "      <th></th>\n",
       "      <th>Peso</th>\n",
       "      <th>Altura</th>\n",
       "      <th>Mascotas</th>\n",
       "      <th>Anio_Nacimiento</th>\n",
       "      <th>Edad</th>\n",
       "    </tr>\n",
       "  </thead>\n",
       "  <tbody>\n",
       "    <tr>\n",
       "      <th>Anel</th>\n",
       "      <td>60</td>\n",
       "      <td>145</td>\n",
       "      <td>2.0</td>\n",
       "      <td>2004</td>\n",
       "      <td>20</td>\n",
       "    </tr>\n",
       "    <tr>\n",
       "      <th>Emilio</th>\n",
       "      <td>72</td>\n",
       "      <td>169</td>\n",
       "      <td>NaN</td>\n",
       "      <td>2004</td>\n",
       "      <td>20</td>\n",
       "    </tr>\n",
       "    <tr>\n",
       "      <th>Jesus</th>\n",
       "      <td>74</td>\n",
       "      <td>170</td>\n",
       "      <td>NaN</td>\n",
       "      <td>2004</td>\n",
       "      <td>20</td>\n",
       "    </tr>\n",
       "    <tr>\n",
       "      <th>jefa</th>\n",
       "      <td>73</td>\n",
       "      <td>70</td>\n",
       "      <td>9.0</td>\n",
       "      <td>2004</td>\n",
       "      <td>20</td>\n",
       "    </tr>\n",
       "  </tbody>\n",
       "</table>\n",
       "</div>"
      ],
      "text/plain": [
       "        Peso  Altura  Mascotas  Anio_Nacimiento  Edad\n",
       "Anel      60     145       2.0             2004    20\n",
       "Emilio    72     169       NaN             2004    20\n",
       "Jesus     74     170       NaN             2004    20\n",
       "jefa      73      70       9.0             2004    20"
      ]
     },
     "execution_count": 31,
     "metadata": {},
     "output_type": "execute_result"
    }
   ],
   "source": [
    "# Añadir una nueva columna calculada al DataFrame\n",
    "df[\"Edad\"] = 2024 - df[\"Anio_Nacimiento\"]\n",
    "df"
   ]
  },
  {
   "cell_type": "code",
   "execution_count": 32,
   "id": "ccfaba13-c8b4-4325-85e9-7478d625421a",
   "metadata": {},
   "outputs": [
    {
     "data": {
      "text/html": [
       "<div>\n",
       "<style scoped>\n",
       "    .dataframe tbody tr th:only-of-type {\n",
       "        vertical-align: middle;\n",
       "    }\n",
       "\n",
       "    .dataframe tbody tr th {\n",
       "        vertical-align: top;\n",
       "    }\n",
       "\n",
       "    .dataframe thead th {\n",
       "        text-align: right;\n",
       "    }\n",
       "</style>\n",
       "<table border=\"1\" class=\"dataframe\">\n",
       "  <thead>\n",
       "    <tr style=\"text-align: right;\">\n",
       "      <th></th>\n",
       "      <th>Peso</th>\n",
       "      <th>Altura</th>\n",
       "      <th>Mascotas</th>\n",
       "      <th>Anio_Nacimiento</th>\n",
       "      <th>Edad</th>\n",
       "      <th>Hijos</th>\n",
       "    </tr>\n",
       "  </thead>\n",
       "  <tbody>\n",
       "    <tr>\n",
       "      <th>Anel</th>\n",
       "      <td>60</td>\n",
       "      <td>145</td>\n",
       "      <td>2.0</td>\n",
       "      <td>2004</td>\n",
       "      <td>20</td>\n",
       "      <td>2</td>\n",
       "    </tr>\n",
       "    <tr>\n",
       "      <th>Emilio</th>\n",
       "      <td>72</td>\n",
       "      <td>169</td>\n",
       "      <td>NaN</td>\n",
       "      <td>2004</td>\n",
       "      <td>20</td>\n",
       "      <td>1</td>\n",
       "    </tr>\n",
       "    <tr>\n",
       "      <th>Jesus</th>\n",
       "      <td>74</td>\n",
       "      <td>170</td>\n",
       "      <td>NaN</td>\n",
       "      <td>2004</td>\n",
       "      <td>20</td>\n",
       "      <td>2</td>\n",
       "    </tr>\n",
       "    <tr>\n",
       "      <th>jefa</th>\n",
       "      <td>73</td>\n",
       "      <td>70</td>\n",
       "      <td>9.0</td>\n",
       "      <td>2004</td>\n",
       "      <td>20</td>\n",
       "      <td>1</td>\n",
       "    </tr>\n",
       "  </tbody>\n",
       "</table>\n",
       "</div>"
      ],
      "text/plain": [
       "        Peso  Altura  Mascotas  Anio_Nacimiento  Edad  Hijos\n",
       "Anel      60     145       2.0             2004    20      2\n",
       "Emilio    72     169       NaN             2004    20      1\n",
       "Jesus     74     170       NaN             2004    20      2\n",
       "jefa      73      70       9.0             2004    20      1"
      ]
     },
     "execution_count": 32,
     "metadata": {},
     "output_type": "execute_result"
    }
   ],
   "source": [
    "# Añadir una nueva columna creando un DataFrame nuevo.\n",
    "df_mod = df.assign(Hijos = [2, 1, 2, 1])\n",
    "df_mod"
   ]
  },
  {
   "cell_type": "code",
   "execution_count": 33,
   "id": "f0d4e706-6caa-4dca-bfef-7829dd5bedd6",
   "metadata": {},
   "outputs": [
    {
     "data": {
      "text/html": [
       "<div>\n",
       "<style scoped>\n",
       "    .dataframe tbody tr th:only-of-type {\n",
       "        vertical-align: middle;\n",
       "    }\n",
       "\n",
       "    .dataframe tbody tr th {\n",
       "        vertical-align: top;\n",
       "    }\n",
       "\n",
       "    .dataframe thead th {\n",
       "        text-align: right;\n",
       "    }\n",
       "</style>\n",
       "<table border=\"1\" class=\"dataframe\">\n",
       "  <thead>\n",
       "    <tr style=\"text-align: right;\">\n",
       "      <th></th>\n",
       "      <th>Peso</th>\n",
       "      <th>Altura</th>\n",
       "      <th>Mascotas</th>\n",
       "      <th>Anio_Nacimiento</th>\n",
       "      <th>Edad</th>\n",
       "    </tr>\n",
       "  </thead>\n",
       "  <tbody>\n",
       "    <tr>\n",
       "      <th>Anel</th>\n",
       "      <td>60</td>\n",
       "      <td>145</td>\n",
       "      <td>2.0</td>\n",
       "      <td>2004</td>\n",
       "      <td>20</td>\n",
       "    </tr>\n",
       "    <tr>\n",
       "      <th>Emilio</th>\n",
       "      <td>72</td>\n",
       "      <td>169</td>\n",
       "      <td>NaN</td>\n",
       "      <td>2004</td>\n",
       "      <td>20</td>\n",
       "    </tr>\n",
       "    <tr>\n",
       "      <th>Jesus</th>\n",
       "      <td>74</td>\n",
       "      <td>170</td>\n",
       "      <td>NaN</td>\n",
       "      <td>2004</td>\n",
       "      <td>20</td>\n",
       "    </tr>\n",
       "    <tr>\n",
       "      <th>jefa</th>\n",
       "      <td>73</td>\n",
       "      <td>70</td>\n",
       "      <td>9.0</td>\n",
       "      <td>2004</td>\n",
       "      <td>20</td>\n",
       "    </tr>\n",
       "  </tbody>\n",
       "</table>\n",
       "</div>"
      ],
      "text/plain": [
       "        Peso  Altura  Mascotas  Anio_Nacimiento  Edad\n",
       "Anel      60     145       2.0             2004    20\n",
       "Emilio    72     169       NaN             2004    20\n",
       "Jesus     74     170       NaN             2004    20\n",
       "jefa      73      70       9.0             2004    20"
      ]
     },
     "execution_count": 33,
     "metadata": {},
     "output_type": "execute_result"
    }
   ],
   "source": [
    "# Eliminar una columna existente del DataFrame\n",
    "\n",
    "df"
   ]
  },
  {
   "cell_type": "code",
   "execution_count": 34,
   "id": "11cdd999-a3cf-49b2-a648-dcbb161315a6",
   "metadata": {},
   "outputs": [
    {
     "data": {
      "text/html": [
       "<div>\n",
       "<style scoped>\n",
       "    .dataframe tbody tr th:only-of-type {\n",
       "        vertical-align: middle;\n",
       "    }\n",
       "\n",
       "    .dataframe tbody tr th {\n",
       "        vertical-align: top;\n",
       "    }\n",
       "\n",
       "    .dataframe thead th {\n",
       "        text-align: right;\n",
       "    }\n",
       "</style>\n",
       "<table border=\"1\" class=\"dataframe\">\n",
       "  <thead>\n",
       "    <tr style=\"text-align: right;\">\n",
       "      <th></th>\n",
       "      <th>Peso</th>\n",
       "      <th>Altura</th>\n",
       "      <th>Mascotas</th>\n",
       "      <th>Anio_Nacimiento</th>\n",
       "      <th>Edad</th>\n",
       "    </tr>\n",
       "  </thead>\n",
       "  <tbody>\n",
       "    <tr>\n",
       "      <th>Anel</th>\n",
       "      <td>60</td>\n",
       "      <td>145</td>\n",
       "      <td>2.0</td>\n",
       "      <td>2004</td>\n",
       "      <td>20</td>\n",
       "    </tr>\n",
       "    <tr>\n",
       "      <th>Emilio</th>\n",
       "      <td>72</td>\n",
       "      <td>169</td>\n",
       "      <td>NaN</td>\n",
       "      <td>2004</td>\n",
       "      <td>20</td>\n",
       "    </tr>\n",
       "    <tr>\n",
       "      <th>Jesus</th>\n",
       "      <td>74</td>\n",
       "      <td>170</td>\n",
       "      <td>NaN</td>\n",
       "      <td>2004</td>\n",
       "      <td>20</td>\n",
       "    </tr>\n",
       "    <tr>\n",
       "      <th>jefa</th>\n",
       "      <td>73</td>\n",
       "      <td>70</td>\n",
       "      <td>9.0</td>\n",
       "      <td>2004</td>\n",
       "      <td>20</td>\n",
       "    </tr>\n",
       "  </tbody>\n",
       "</table>\n",
       "</div>"
      ],
      "text/plain": [
       "        Peso  Altura  Mascotas  Anio_Nacimiento  Edad\n",
       "Anel      60     145       2.0             2004    20\n",
       "Emilio    72     169       NaN             2004    20\n",
       "Jesus     74     170       NaN             2004    20\n",
       "jefa      73      70       9.0             2004    20"
      ]
     },
     "execution_count": 34,
     "metadata": {},
     "output_type": "execute_result"
    }
   ],
   "source": [
    "# Eliminar una columna existente, devolviendo una copia del DataFrame resultante.\n",
    "df_mod = df_mod.drop([\"Hijos\"], axis=1)\n",
    "df_mod"
   ]
  },
  {
   "cell_type": "code",
   "execution_count": 35,
   "id": "267292ca-1a1a-4d16-8cbc-3fa42f297225",
   "metadata": {},
   "outputs": [
    {
     "data": {
      "text/html": [
       "<div>\n",
       "<style scoped>\n",
       "    .dataframe tbody tr th:only-of-type {\n",
       "        vertical-align: middle;\n",
       "    }\n",
       "\n",
       "    .dataframe tbody tr th {\n",
       "        vertical-align: top;\n",
       "    }\n",
       "\n",
       "    .dataframe thead th {\n",
       "        text-align: right;\n",
       "    }\n",
       "</style>\n",
       "<table border=\"1\" class=\"dataframe\">\n",
       "  <thead>\n",
       "    <tr style=\"text-align: right;\">\n",
       "      <th></th>\n",
       "      <th>Peso</th>\n",
       "      <th>Altura</th>\n",
       "      <th>Mascotas</th>\n",
       "      <th>Anio_Nacimiento</th>\n",
       "      <th>Edad</th>\n",
       "    </tr>\n",
       "  </thead>\n",
       "  <tbody>\n",
       "    <tr>\n",
       "      <th>Anel</th>\n",
       "      <td>60</td>\n",
       "      <td>145</td>\n",
       "      <td>2.0</td>\n",
       "      <td>2004</td>\n",
       "      <td>20</td>\n",
       "    </tr>\n",
       "    <tr>\n",
       "      <th>Emilio</th>\n",
       "      <td>72</td>\n",
       "      <td>169</td>\n",
       "      <td>NaN</td>\n",
       "      <td>2004</td>\n",
       "      <td>20</td>\n",
       "    </tr>\n",
       "    <tr>\n",
       "      <th>Jesus</th>\n",
       "      <td>74</td>\n",
       "      <td>170</td>\n",
       "      <td>NaN</td>\n",
       "      <td>2004</td>\n",
       "      <td>20</td>\n",
       "    </tr>\n",
       "    <tr>\n",
       "      <th>jefa</th>\n",
       "      <td>73</td>\n",
       "      <td>70</td>\n",
       "      <td>9.0</td>\n",
       "      <td>2004</td>\n",
       "      <td>20</td>\n",
       "    </tr>\n",
       "  </tbody>\n",
       "</table>\n",
       "</div>"
      ],
      "text/plain": [
       "        Peso  Altura  Mascotas  Anio_Nacimiento  Edad\n",
       "Anel      60     145       2.0             2004    20\n",
       "Emilio    72     169       NaN             2004    20\n",
       "Jesus     74     170       NaN             2004    20\n",
       "jefa      73      70       9.0             2004    20"
      ]
     },
     "execution_count": 35,
     "metadata": {},
     "output_type": "execute_result"
    }
   ],
   "source": [
    "df"
   ]
  },
  {
   "cell_type": "code",
   "execution_count": 36,
   "id": "cc469781-cfcb-40b3-a831-ebd54b05f540",
   "metadata": {},
   "outputs": [
    {
     "data": {
      "text/html": [
       "<div>\n",
       "<style scoped>\n",
       "    .dataframe tbody tr th:only-of-type {\n",
       "        vertical-align: middle;\n",
       "    }\n",
       "\n",
       "    .dataframe tbody tr th {\n",
       "        vertical-align: top;\n",
       "    }\n",
       "\n",
       "    .dataframe thead th {\n",
       "        text-align: right;\n",
       "    }\n",
       "</style>\n",
       "<table border=\"1\" class=\"dataframe\">\n",
       "  <thead>\n",
       "    <tr style=\"text-align: right;\">\n",
       "      <th></th>\n",
       "      <th>Peso</th>\n",
       "      <th>Altura</th>\n",
       "      <th>Mascotas</th>\n",
       "    </tr>\n",
       "  </thead>\n",
       "  <tbody>\n",
       "    <tr>\n",
       "      <th>Anel</th>\n",
       "      <td>60</td>\n",
       "      <td>145</td>\n",
       "      <td>2.0</td>\n",
       "    </tr>\n",
       "    <tr>\n",
       "      <th>Emilio</th>\n",
       "      <td>72</td>\n",
       "      <td>169</td>\n",
       "      <td>NaN</td>\n",
       "    </tr>\n",
       "    <tr>\n",
       "      <th>Jesus</th>\n",
       "      <td>74</td>\n",
       "      <td>170</td>\n",
       "      <td>NaN</td>\n",
       "    </tr>\n",
       "    <tr>\n",
       "      <th>jefa</th>\n",
       "      <td>73</td>\n",
       "      <td>70</td>\n",
       "      <td>9.0</td>\n",
       "    </tr>\n",
       "  </tbody>\n",
       "</table>\n",
       "</div>"
      ],
      "text/plain": [
       "        Peso  Altura  Mascotas\n",
       "Anel      60     145       2.0\n",
       "Emilio    72     169       NaN\n",
       "Jesus     74     170       NaN\n",
       "jefa      73      70       9.0"
      ]
     },
     "execution_count": 36,
     "metadata": {},
     "output_type": "execute_result"
    }
   ],
   "source": [
    "# Evaluacion de expresiones sobre un DataFrame\n",
    "Personas = {\n",
    "    \"Peso\": pd.Series([72, 60, 74, 73], [\"Emilio\", \"Anel\", \"Jesus\", \"jefa\"]) ,\n",
    "    \"Altura\": pd.Series({\"Emilio\": 169, \"Anel\": 145, \"Jesus\": 170, \"jefa\": 70}) ,\n",
    "    \"Mascotas\": pd.Series([2, 9], [\"Anel\", \"jefa\"])\n",
    "}\n",
    "\n",
    "df = pd.DataFrame(Personas)\n",
    "df"
   ]
  },
  {
   "cell_type": "code",
   "execution_count": 37,
   "id": "54ca4bc5-27d8-4d98-b507-3182c2759368",
   "metadata": {},
   "outputs": [
    {
     "data": {
      "text/plain": [
       "Anel      72.5\n",
       "Emilio    84.5\n",
       "Jesus     85.0\n",
       "jefa      35.0\n",
       "Name: Altura, dtype: float64"
      ]
     },
     "execution_count": 37,
     "metadata": {},
     "output_type": "execute_result"
    }
   ],
   "source": [
    "# Evaluar una funcion sobre una columna del DataFrame.\n",
    "df.eval(\"Altura / 2\")"
   ]
  },
  {
   "cell_type": "code",
   "execution_count": 38,
   "id": "89baab66-fb81-485d-be55-1604402bb36a",
   "metadata": {},
   "outputs": [
    {
     "data": {
      "text/plain": [
       "Anel      False\n",
       "Emilio    False\n",
       "Jesus     False\n",
       "jefa      False\n",
       "Name: Altura, dtype: bool"
      ]
     },
     "execution_count": 38,
     "metadata": {},
     "output_type": "execute_result"
    }
   ],
   "source": [
    "# Evaluar una funcion utilizando una variable local.\n",
    "max_altura = 170\n",
    "df.eval(\"Altura > @max_altura\")"
   ]
  },
  {
   "cell_type": "code",
   "execution_count": 39,
   "id": "e6344abf-2d0b-48f2-838a-bb2cf5aaf33b",
   "metadata": {},
   "outputs": [
    {
     "data": {
      "text/plain": [
       "Anel      False\n",
       "Emilio     True\n",
       "Jesus      True\n",
       "jefa      False\n",
       "Name: Altura, dtype: bool"
      ]
     },
     "execution_count": 39,
     "metadata": {},
     "output_type": "execute_result"
    }
   ],
   "source": [
    "# Evaluar una funcion utilizando una variable local.\n",
    "max_altura = 165\n",
    "df.eval(\"Altura > @max_altura\")"
   ]
  },
  {
   "cell_type": "code",
   "execution_count": 40,
   "id": "0ad5ad70-8069-4ada-9acd-79726662bb8e",
   "metadata": {},
   "outputs": [],
   "source": [
    "# Aplicar una funcion a una columna del DataFrame\n",
    "def func(x):\n",
    "    return x + 2\n",
    "    df[\"Peso\"].apply(func)"
   ]
  },
  {
   "cell_type": "markdown",
   "id": "84f10598-3003-4a59-8af2-0136ebbb2528",
   "metadata": {},
   "source": [
    "# Guardar y Cargar el DataFrame"
   ]
  },
  {
   "cell_type": "code",
   "execution_count": 41,
   "id": "1678b35d-00be-491e-9a05-78ea9e21eadd",
   "metadata": {},
   "outputs": [
    {
     "data": {
      "text/html": [
       "<div>\n",
       "<style scoped>\n",
       "    .dataframe tbody tr th:only-of-type {\n",
       "        vertical-align: middle;\n",
       "    }\n",
       "\n",
       "    .dataframe tbody tr th {\n",
       "        vertical-align: top;\n",
       "    }\n",
       "\n",
       "    .dataframe thead th {\n",
       "        text-align: right;\n",
       "    }\n",
       "</style>\n",
       "<table border=\"1\" class=\"dataframe\">\n",
       "  <thead>\n",
       "    <tr style=\"text-align: right;\">\n",
       "      <th></th>\n",
       "      <th>Peso</th>\n",
       "      <th>Altura</th>\n",
       "      <th>Mascotas</th>\n",
       "    </tr>\n",
       "  </thead>\n",
       "  <tbody>\n",
       "    <tr>\n",
       "      <th>Anel</th>\n",
       "      <td>60</td>\n",
       "      <td>145</td>\n",
       "      <td>2.0</td>\n",
       "    </tr>\n",
       "    <tr>\n",
       "      <th>Emilio</th>\n",
       "      <td>72</td>\n",
       "      <td>169</td>\n",
       "      <td>NaN</td>\n",
       "    </tr>\n",
       "    <tr>\n",
       "      <th>Jesus</th>\n",
       "      <td>74</td>\n",
       "      <td>170</td>\n",
       "      <td>NaN</td>\n",
       "    </tr>\n",
       "    <tr>\n",
       "      <th>jefa</th>\n",
       "      <td>73</td>\n",
       "      <td>70</td>\n",
       "      <td>9.0</td>\n",
       "    </tr>\n",
       "  </tbody>\n",
       "</table>\n",
       "</div>"
      ],
      "text/plain": [
       "        Peso  Altura  Mascotas\n",
       "Anel      60     145       2.0\n",
       "Emilio    72     169       NaN\n",
       "Jesus     74     170       NaN\n",
       "jefa      73      70       9.0"
      ]
     },
     "execution_count": 41,
     "metadata": {},
     "output_type": "execute_result"
    }
   ],
   "source": [
    "# Crear un DataFrame e inicializarlo con unn diccionario de Objeto Series.\n",
    "Personas = {\n",
    "    \"Peso\": pd.Series([72, 60, 74, 73], [\"Emilio\", \"Anel\", \"Jesus\", \"jefa\"]) ,\n",
    "    \"Altura\": pd.Series({\"Emilio\": 169, \"Anel\": 145, \"Jesus\": 170, \"jefa\": 70}) ,\n",
    "    \"Mascotas\": pd.Series([2, 9], [\"Anel\", \"jefa\"])\n",
    "}\n",
    "\n",
    "df = pd.DataFrame(Personas)\n",
    "df"
   ]
  },
  {
   "cell_type": "code",
   "execution_count": 42,
   "id": "74fde039-c344-4952-b8e7-b3814fd5fe40",
   "metadata": {},
   "outputs": [],
   "source": [
    "# Guardar el DataFrame como CSV, HTML, JSON.\n",
    "df.to_csv(\"df_Personas.csv\")\n",
    "df.to_html(\"df_Personas.html\")\n",
    "df.to_json(\"df_Personas.json\")"
   ]
  },
  {
   "cell_type": "code",
   "execution_count": 43,
   "id": "fe246d80-af63-4fd1-8cb5-59abefb1c85d",
   "metadata": {},
   "outputs": [],
   "source": [
    "# Cargar el DataFrame en Jupyter\n",
    "df2 = pd.read_csv(\"df_Personas.csv\")"
   ]
  },
  {
   "cell_type": "code",
   "execution_count": 44,
   "id": "855daf1b-5199-4878-a9cb-aa3ed187a5cc",
   "metadata": {},
   "outputs": [
    {
     "data": {
      "text/html": [
       "<div>\n",
       "<style scoped>\n",
       "    .dataframe tbody tr th:only-of-type {\n",
       "        vertical-align: middle;\n",
       "    }\n",
       "\n",
       "    .dataframe tbody tr th {\n",
       "        vertical-align: top;\n",
       "    }\n",
       "\n",
       "    .dataframe thead th {\n",
       "        text-align: right;\n",
       "    }\n",
       "</style>\n",
       "<table border=\"1\" class=\"dataframe\">\n",
       "  <thead>\n",
       "    <tr style=\"text-align: right;\">\n",
       "      <th></th>\n",
       "      <th>Unnamed: 0</th>\n",
       "      <th>Peso</th>\n",
       "      <th>Altura</th>\n",
       "      <th>Mascotas</th>\n",
       "    </tr>\n",
       "  </thead>\n",
       "  <tbody>\n",
       "    <tr>\n",
       "      <th>0</th>\n",
       "      <td>Anel</td>\n",
       "      <td>60</td>\n",
       "      <td>145</td>\n",
       "      <td>2.0</td>\n",
       "    </tr>\n",
       "    <tr>\n",
       "      <th>1</th>\n",
       "      <td>Emilio</td>\n",
       "      <td>72</td>\n",
       "      <td>169</td>\n",
       "      <td>NaN</td>\n",
       "    </tr>\n",
       "    <tr>\n",
       "      <th>2</th>\n",
       "      <td>Jesus</td>\n",
       "      <td>74</td>\n",
       "      <td>170</td>\n",
       "      <td>NaN</td>\n",
       "    </tr>\n",
       "    <tr>\n",
       "      <th>3</th>\n",
       "      <td>jefa</td>\n",
       "      <td>73</td>\n",
       "      <td>70</td>\n",
       "      <td>9.0</td>\n",
       "    </tr>\n",
       "  </tbody>\n",
       "</table>\n",
       "</div>"
      ],
      "text/plain": [
       "  Unnamed: 0  Peso  Altura  Mascotas\n",
       "0       Anel    60     145       2.0\n",
       "1     Emilio    72     169       NaN\n",
       "2      Jesus    74     170       NaN\n",
       "3       jefa    73      70       9.0"
      ]
     },
     "execution_count": 44,
     "metadata": {},
     "output_type": "execute_result"
    }
   ],
   "source": [
    "df2"
   ]
  },
  {
   "cell_type": "code",
   "execution_count": 45,
   "id": "30c98580-e23f-4cda-8faa-f03c00eead48",
   "metadata": {},
   "outputs": [
    {
     "data": {
      "text/html": [
       "<div>\n",
       "<style scoped>\n",
       "    .dataframe tbody tr th:only-of-type {\n",
       "        vertical-align: middle;\n",
       "    }\n",
       "\n",
       "    .dataframe tbody tr th {\n",
       "        vertical-align: top;\n",
       "    }\n",
       "\n",
       "    .dataframe thead th {\n",
       "        text-align: right;\n",
       "    }\n",
       "</style>\n",
       "<table border=\"1\" class=\"dataframe\">\n",
       "  <thead>\n",
       "    <tr style=\"text-align: right;\">\n",
       "      <th></th>\n",
       "      <th>Peso</th>\n",
       "      <th>Altura</th>\n",
       "      <th>Mascotas</th>\n",
       "    </tr>\n",
       "  </thead>\n",
       "  <tbody>\n",
       "    <tr>\n",
       "      <th>Anel</th>\n",
       "      <td>60</td>\n",
       "      <td>145</td>\n",
       "      <td>2.0</td>\n",
       "    </tr>\n",
       "    <tr>\n",
       "      <th>Emilio</th>\n",
       "      <td>72</td>\n",
       "      <td>169</td>\n",
       "      <td>NaN</td>\n",
       "    </tr>\n",
       "    <tr>\n",
       "      <th>Jesus</th>\n",
       "      <td>74</td>\n",
       "      <td>170</td>\n",
       "      <td>NaN</td>\n",
       "    </tr>\n",
       "    <tr>\n",
       "      <th>jefa</th>\n",
       "      <td>73</td>\n",
       "      <td>70</td>\n",
       "      <td>9.0</td>\n",
       "    </tr>\n",
       "  </tbody>\n",
       "</table>\n",
       "</div>"
      ],
      "text/plain": [
       "        Peso  Altura  Mascotas\n",
       "Anel      60     145       2.0\n",
       "Emilio    72     169       NaN\n",
       "Jesus     74     170       NaN\n",
       "jefa      73      70       9.0"
      ]
     },
     "execution_count": 45,
     "metadata": {},
     "output_type": "execute_result"
    }
   ],
   "source": [
    "# Cargar el DataFrame con la primera columna correctamente asignada\n",
    "df2 = pd.read_csv(\"df_Personas.csv\", index_col=0)\n",
    "df2"
   ]
  }
 ],
 "metadata": {
  "kernelspec": {
   "display_name": "Python 3 (ipykernel)",
   "language": "python",
   "name": "python3"
  },
  "language_info": {
   "codemirror_mode": {
    "name": "ipython",
    "version": 3
   },
   "file_extension": ".py",
   "mimetype": "text/x-python",
   "name": "python",
   "nbconvert_exporter": "python",
   "pygments_lexer": "ipython3",
   "version": "3.11.9"
  }
 },
 "nbformat": 4,
 "nbformat_minor": 5
}
