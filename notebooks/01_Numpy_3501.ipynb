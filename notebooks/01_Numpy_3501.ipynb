{
 "cells": [
  {
   "cell_type": "markdown",
   "id": "7e8079ec-3c6d-4af6-8ea5-ec902e44bcea",
   "metadata": {},
   "source": [
    "# Introduccion a Numpy"
   ]
  },
  {
   "cell_type": "markdown",
   "id": "dbea8a1d-6513-4145-95fe-945819d12a21",
   "metadata": {},
   "source": [
    "[Numpy](https://numpy.org/doc/) es una libreria para la computacion con Python"
   ]
  },
  {
   "cell_type": "markdown",
   "id": "af52d920-0536-4008-9e2b-2a1eaf80d6a4",
   "metadata": {},
   "source": [
    "* Proporciona Arrays N-Dimensiones.\n",
    "* Implemeta funciones matemáticas sofisticadas.\n",
    "* Proporciona herramientas para integrar C/C++ y Frontan.\n",
    "* Proporciona mecanismos para facilitar la realizacion de tareas relacionadas con álgebra lineas o numeros aleatorios."
   ]
  },
  {
   "cell_type": "code",
   "execution_count": null,
   "id": "9333a407-cb4c-445a-a160-3ab75b198d72",
   "metadata": {},
   "outputs": [],
   "source": [
    "import numpy as np"
   ]
  },
  {
   "cell_type": "code",
   "execution_count": 2,
   "id": "fe997da9-b1a3-476e-9cf5-0d9853cb71b3",
   "metadata": {},
   "outputs": [
    {
     "data": {
      "text/plain": [
       "array([[0., 0., 0., 0.],\n",
       "       [0., 0., 0., 0.]])"
      ]
     },
     "execution_count": 2,
     "metadata": {},
     "output_type": "execute_result"
    }
   ],
   "source": [
    "#Array cuyos valores sean todos 0.\n",
    "a = np.zeros((2,4))\n",
    "a"
   ]
  },
  {
   "cell_type": "markdown",
   "id": "ad23511c-3a83-499d-b306-f06eaa4544f3",
   "metadata": {},
   "source": [
    "_a_ es un array:\n",
    "* Con dos **axis**, el primero de longitud 2 y el segundo de longitud 4.\n",
    "* Con un **rang** igual a 2.\n",
    "* Con un **shape** igual (2,4).\n",
    "* Con un **size** igual a 8."
   ]
  },
  {
   "cell_type": "code",
   "execution_count": 3,
   "id": "58a6b7d0-2457-4053-850e-6845f232a105",
   "metadata": {},
   "outputs": [
    {
     "data": {
      "text/plain": [
       "(2, 4)"
      ]
     },
     "execution_count": 3,
     "metadata": {},
     "output_type": "execute_result"
    }
   ],
   "source": [
    "a.shape"
   ]
  },
  {
   "cell_type": "code",
   "execution_count": 4,
   "id": "0a36aa00-a040-43cd-a75b-e701f07a94c0",
   "metadata": {},
   "outputs": [
    {
     "data": {
      "text/plain": [
       "2"
      ]
     },
     "execution_count": 4,
     "metadata": {},
     "output_type": "execute_result"
    }
   ],
   "source": [
    "a.ndim"
   ]
  },
  {
   "cell_type": "code",
   "execution_count": 5,
   "id": "33b784e9-dcce-4854-baf1-c467aa753a7a",
   "metadata": {},
   "outputs": [
    {
     "data": {
      "text/plain": [
       "8"
      ]
     },
     "execution_count": 5,
     "metadata": {},
     "output_type": "execute_result"
    }
   ],
   "source": [
    "a.size"
   ]
  },
  {
   "cell_type": "markdown",
   "id": "fa66c460-95fa-48d8-ab9d-5b1d4cb70d02",
   "metadata": {},
   "source": [
    "## Creacion de Arrays"
   ]
  },
  {
   "cell_type": "code",
   "execution_count": 6,
   "id": "80082164-8def-4aa1-a94b-64bf32205769",
   "metadata": {},
   "outputs": [
    {
     "data": {
      "text/plain": [
       "array([[[0., 0., 0., 0.],\n",
       "        [0., 0., 0., 0.],\n",
       "        [0., 0., 0., 0.]],\n",
       "\n",
       "       [[0., 0., 0., 0.],\n",
       "        [0., 0., 0., 0.],\n",
       "        [0., 0., 0., 0.]]])"
      ]
     },
     "execution_count": 6,
     "metadata": {},
     "output_type": "execute_result"
    }
   ],
   "source": [
    "# Array cuyos valores sean todos 0,\n",
    "np.zeros((2, 3, 4))"
   ]
  },
  {
   "cell_type": "code",
   "execution_count": 7,
   "id": "5ed5be7e-a39f-4d93-9f27-3b382b9e6a3b",
   "metadata": {},
   "outputs": [
    {
     "data": {
      "text/plain": [
       "array([[[1., 1., 1., 1.],\n",
       "        [1., 1., 1., 1.],\n",
       "        [1., 1., 1., 1.]],\n",
       "\n",
       "       [[1., 1., 1., 1.],\n",
       "        [1., 1., 1., 1.],\n",
       "        [1., 1., 1., 1.]]])"
      ]
     },
     "execution_count": 7,
     "metadata": {},
     "output_type": "execute_result"
    }
   ],
   "source": [
    "# Array cuyos valores sean todos 1\n",
    "np.ones((2, 3, 4))"
   ]
  },
  {
   "cell_type": "code",
   "execution_count": 8,
   "id": "bddfbe92-f1fb-4f42-b299-9f4c22f0bd33",
   "metadata": {},
   "outputs": [
    {
     "data": {
      "text/plain": [
       "array([[[8, 8, 8, 8],\n",
       "        [8, 8, 8, 8],\n",
       "        [8, 8, 8, 8]],\n",
       "\n",
       "       [[8, 8, 8, 8],\n",
       "        [8, 8, 8, 8],\n",
       "        [8, 8, 8, 8]]])"
      ]
     },
     "execution_count": 8,
     "metadata": {},
     "output_type": "execute_result"
    }
   ],
   "source": [
    "# Array cuyos valores son todos el valor indicado como segundo parametro de la funcion\n",
    "np.full((2, 3, 4), 8)"
   ]
  },
  {
   "cell_type": "code",
   "execution_count": 9,
   "id": "303585f4-ca47-4981-90a1-1b6efed31d2a",
   "metadata": {},
   "outputs": [
    {
     "data": {
      "text/plain": [
       "array([[[1.84115564e-314,             nan, 0.00000000e+000,\n",
       "         0.00000000e+000, 0.00000000e+000, 0.00000000e+000,\n",
       "         0.00000000e+000, 0.00000000e+000, 0.00000000e+000],\n",
       "        [0.00000000e+000, 0.00000000e+000, 0.00000000e+000,\n",
       "         0.00000000e+000, 0.00000000e+000, 0.00000000e+000,\n",
       "         0.00000000e+000, 0.00000000e+000, 0.00000000e+000],\n",
       "        [0.00000000e+000, 0.00000000e+000, 0.00000000e+000,\n",
       "         0.00000000e+000, 0.00000000e+000, 0.00000000e+000,\n",
       "         0.00000000e+000, 0.00000000e+000, 0.00000000e+000]],\n",
       "\n",
       "       [[0.00000000e+000, 0.00000000e+000, 0.00000000e+000,\n",
       "         0.00000000e+000, 0.00000000e+000, 0.00000000e+000,\n",
       "         0.00000000e+000, 0.00000000e+000, 0.00000000e+000],\n",
       "        [0.00000000e+000, 0.00000000e+000, 0.00000000e+000,\n",
       "         0.00000000e+000, 0.00000000e+000, 0.00000000e+000,\n",
       "         0.00000000e+000, 0.00000000e+000, 0.00000000e+000],\n",
       "        [0.00000000e+000, 0.00000000e+000, 0.00000000e+000,\n",
       "         0.00000000e+000, 0.00000000e+000, 0.00000000e+000,\n",
       "                     nan, 0.00000000e+000, 1.48219694e-323]]])"
      ]
     },
     "execution_count": 9,
     "metadata": {},
     "output_type": "execute_result"
    }
   ],
   "source": [
    "# El resultado de np.emty no es redecible\n",
    "# Se inicializa con los valores de array con lo que haya en memoria en ese momento\n",
    "np.empty((2,3,9))"
   ]
  },
  {
   "cell_type": "code",
   "execution_count": 10,
   "id": "1626919a-7a02-440c-ae6f-ccc098b89cb0",
   "metadata": {},
   "outputs": [
    {
     "data": {
      "text/plain": [
       "array([[1, 2, 3],\n",
       "       [4, 5, 6]])"
      ]
     },
     "execution_count": 10,
     "metadata": {},
     "output_type": "execute_result"
    }
   ],
   "source": [
    "# Inicializar el array utilizando un array de python.\n",
    "b= np.array ([[1,2,3],[4,5,6]])\n",
    "b"
   ]
  },
  {
   "cell_type": "code",
   "execution_count": 11,
   "id": "189c7c8a-9e95-408a-bcd6-614842c276c4",
   "metadata": {},
   "outputs": [
    {
     "data": {
      "text/plain": [
       "(2, 3)"
      ]
     },
     "execution_count": 11,
     "metadata": {},
     "output_type": "execute_result"
    }
   ],
   "source": [
    "b.shape\n"
   ]
  },
  {
   "cell_type": "code",
   "execution_count": 12,
   "id": "08f6a65f-06a4-44fd-9ff9-7b2ed445a1d5",
   "metadata": {},
   "outputs": [
    {
     "name": "stdout",
     "output_type": "stream",
     "text": [
      "[0.         0.66666667 1.33333333 2.         2.66666667 3.33333333\n",
      " 4.         4.66666667 5.33333333 6.        ]\n"
     ]
    }
   ],
   "source": [
    "# Crear un array utilizandi una funcion basada en rangos \n",
    "# (minimo, maximo, numero elementos del array)\n",
    "print(np.linspace(0,6,10))"
   ]
  },
  {
   "cell_type": "code",
   "execution_count": 13,
   "id": "74f0d258-4a1a-46fc-aa24-6b7484bf3184",
   "metadata": {},
   "outputs": [
    {
     "data": {
      "text/plain": [
       "array([[[0.41293036, 0.54371091, 0.77587257, 0.95983259],\n",
       "        [0.06019597, 0.03871104, 0.07840317, 0.10704618],\n",
       "        [0.51671952, 0.34153451, 0.5604085 , 0.87307191]],\n",
       "\n",
       "       [[0.62464635, 0.6341071 , 0.76395578, 0.19393566],\n",
       "        [0.95959796, 0.82317932, 0.73390214, 0.56942981],\n",
       "        [0.18536062, 0.52116856, 0.58163634, 0.8648931 ]],\n",
       "\n",
       "       [[0.58574545, 0.53503759, 0.49688342, 0.50312515],\n",
       "        [0.63812376, 0.78982076, 0.54333177, 0.31718685],\n",
       "        [0.12426138, 0.90522124, 0.47387268, 0.67995374]]])"
      ]
     },
     "execution_count": 13,
     "metadata": {},
     "output_type": "execute_result"
    }
   ],
   "source": [
    "# Inicializar el array con valorea aleatoreos \n",
    "np.random.rand(3,3,4)"
   ]
  },
  {
   "cell_type": "code",
   "execution_count": 14,
   "id": "76755533-9501-40b9-86a3-48225d8facdc",
   "metadata": {},
   "outputs": [
    {
     "data": {
      "text/plain": [
       "array([[-0.33749626,  0.9288522 , -1.78278607, -0.05693868],\n",
       "       [-0.127037  ,  1.08167394,  0.90361916, -0.22692818]])"
      ]
     },
     "execution_count": 14,
     "metadata": {},
     "output_type": "execute_result"
    }
   ],
   "source": [
    "# inicializar array con alores aleatorios conforme a una distribucion normal.\n",
    "np.random.randn(2,4)"
   ]
  },
  {
   "cell_type": "code",
   "execution_count": 15,
   "id": "d6bd0d5e-2a2d-4a41-a125-7237a792a556",
   "metadata": {},
   "outputs": [
    {
     "data": {
      "image/png": "[encoded data removed]",
      "text/plain": [
       "<Figure size 640x480 with 1 Axes>"
      ]
     },
     "metadata": {},
     "output_type": "display_data"
    }
   ],
   "source": [
    "%matplotlib inline \n",
    "import matplotlib.pyplot as plt\n",
    "\n",
    "c= np.random.randn(100000000)\n",
    "plt.hist(c, bins=600)\n",
    "plt.show()"
   ]
  },
  {
   "cell_type": "code",
   "execution_count": 16,
   "id": "02aa78a1-db0e-4cce-8702-e243edccb4c5",
   "metadata": {},
   "outputs": [
    {
     "data": {
      "text/plain": [
       "array([[ 0.,  2.,  4.,  6.,  8.],\n",
       "       [ 1.,  3.,  5.,  7.,  9.],\n",
       "       [ 2.,  4.,  6.,  8., 10.]])"
      ]
     },
     "execution_count": 16,
     "metadata": {},
     "output_type": "execute_result"
    }
   ],
   "source": [
    "# Inicializar un array, utilizando una funcion personalizada\n",
    "def func(x,y):\n",
    "    return x + 2 * y\n",
    "\n",
    "np.fromfunction(func,(3,5))"
   ]
  },
  {
   "cell_type": "markdown",
   "id": "0ac597ef-9f3e-4f32-b33f-c932b346fc76",
   "metadata": {},
   "source": [
    "## Acceso a los elementos de un array\n",
    "### Array unidimencional"
   ]
  },
  {
   "cell_type": "code",
   "execution_count": 17,
   "id": "5655e083-19d5-4dfc-9b32-c8c4cac82b68",
   "metadata": {},
   "outputs": [
    {
     "name": "stdout",
     "output_type": "stream",
     "text": [
      "Shape: (6,)\n",
      "Array_uni: [ 1  3  5  7  9 11]\n"
     ]
    }
   ],
   "source": [
    "# Acceder a los elementos de un array \n",
    "array_uni = np.array( [1 ,3 ,5 ,7 ,9 ,11 ])\n",
    "print(\"Shape:\", array_uni.shape)\n",
    "print(\"Array_uni:\", array_uni)\n"
   ]
  },
  {
   "cell_type": "code",
   "execution_count": 18,
   "id": "e4a77b7c-f45d-447d-af15-78086895c38f",
   "metadata": {},
   "outputs": [
    {
     "data": {
      "text/plain": [
       "9"
      ]
     },
     "execution_count": 18,
     "metadata": {},
     "output_type": "execute_result"
    }
   ],
   "source": [
    "# Accedio al quinto elemento de array \n",
    "array_uni[4]"
   ]
  },
  {
   "cell_type": "code",
   "execution_count": 19,
   "id": "fac31eba-3b05-4487-942f-fa008b42ea84",
   "metadata": {},
   "outputs": [
    {
     "data": {
      "text/plain": [
       "array([5, 7])"
      ]
     },
     "execution_count": 19,
     "metadata": {},
     "output_type": "execute_result"
    }
   ],
   "source": [
    "#Acceder al tercer y cuarto elemento del array\n",
    "array_uni[2:4]"
   ]
  },
  {
   "cell_type": "markdown",
   "id": "ace3558a-6ef0-44e4-89fb-4dbf3abb009c",
   "metadata": {},
   "source": [
    "### Array Multidimencional\n"
   ]
  },
  {
   "cell_type": "code",
   "execution_count": 20,
   "id": "f82c0bde-94ef-4770-b1b4-ff5fd2709fd0",
   "metadata": {},
   "outputs": [
    {
     "name": "stdout",
     "output_type": "stream",
     "text": [
      "shape: (2, 4)\n",
      "Array_multi:\n",
      " [[1 2 3 4]\n",
      " [5 6 7 8]]\n"
     ]
    }
   ],
   "source": [
    "# Crear una array multidimencional\n",
    "array_multi = np.array ([[1, 2 , 3, 4],[5, 6, 7, 8]])\n",
    "print(\"shape:\",array_multi.shape)\n",
    "print(\"Array_multi:\\n\",array_multi)"
   ]
  },
  {
   "cell_type": "code",
   "execution_count": 21,
   "id": "1bbafcc9-4b5e-4434-867e-9eb4fcd709a7",
   "metadata": {},
   "outputs": [
    {
     "data": {
      "text/plain": [
       "4"
      ]
     },
     "execution_count": 21,
     "metadata": {},
     "output_type": "execute_result"
    }
   ],
   "source": [
    "#Acceder al cuarto elemento del array\n",
    "array_multi[0,3]"
   ]
  },
  {
   "cell_type": "code",
   "execution_count": 22,
   "id": "8c230e90-d767-47ef-a9ad-9910ef3a2b2a",
   "metadata": {},
   "outputs": [
    {
     "data": {
      "text/plain": [
       "array([5, 6, 7, 8])"
      ]
     },
     "execution_count": 22,
     "metadata": {},
     "output_type": "execute_result"
    }
   ],
   "source": [
    "#Aceder a la segunda fila del array\n",
    "array_multi[1,:]"
   ]
  },
  {
   "cell_type": "code",
   "execution_count": 23,
   "id": "4cb26ce7-730b-4a67-9344-781aed02ef80",
   "metadata": {},
   "outputs": [
    {
     "data": {
      "text/plain": [
       "array([3, 7])"
      ]
     },
     "execution_count": 23,
     "metadata": {},
     "output_type": "execute_result"
    }
   ],
   "source": [
    "## acceder al primer elemento de las dos primeras filas del array\n",
    "array_multi[0:2,2]"
   ]
  },
  {
   "cell_type": "markdown",
   "id": "a8355fd3-5753-47b4-9f22-94fcba9676c1",
   "metadata": {},
   "source": [
    "## Modificacion de un array"
   ]
  },
  {
   "cell_type": "code",
   "execution_count": 24,
   "id": "3904729a-7b95-4a64-a3cb-18e549379fb9",
   "metadata": {},
   "outputs": [
    {
     "name": "stdout",
     "output_type": "stream",
     "text": [
      "shape: (28,)\n",
      "Array:\n",
      " [ 0  1  2  3  4  5  6  7  8  9 10 11 12 13 14 15 16 17 18 19 20 21 22 23\n",
      " 24 25 26 27]\n"
     ]
    }
   ],
   "source": [
    "# crear un arreglo unidimencional e inicializarlo con un rango \n",
    "# de elementos 0-27\n",
    "array1 = np.arange(28)\n",
    "print(\"shape:\",array1.shape)\n",
    "print(\"Array:\\n\",array1)"
   ]
  },
  {
   "cell_type": "code",
   "execution_count": 25,
   "id": "f1f06619-c1e7-4c9b-a1c5-20da4658ed38",
   "metadata": {},
   "outputs": [
    {
     "name": "stdout",
     "output_type": "stream",
     "text": [
      "shape: (7, 4)\n",
      "Array:\n",
      " [[ 0  1  2  3]\n",
      " [ 4  5  6  7]\n",
      " [ 8  9 10 11]\n",
      " [12 13 14 15]\n",
      " [16 17 18 19]\n",
      " [20 21 22 23]\n",
      " [24 25 26 27]]\n"
     ]
    }
   ],
   "source": [
    "# cambiar lasdimenciones del arry y sus longitudes\n",
    "array1.shape=(7,4)\n",
    "print(\"shape:\",array1.shape)\n",
    "print(\"Array:\\n\",array1)\n"
   ]
  },
  {
   "cell_type": "code",
   "execution_count": 26,
   "id": "d474ed76-7732-468c-a597-5f5039632823",
   "metadata": {},
   "outputs": [
    {
     "name": "stdout",
     "output_type": "stream",
     "text": [
      "shape: (4, 7)\n",
      "Array:\n",
      " [[ 0  1  2  3  4  5  6]\n",
      " [ 7  8  9 10 11 12 13]\n",
      " [14 15 16 17 18 19 20]\n",
      " [21 22 23 24 25 26 27]]\n"
     ]
    }
   ],
   "source": [
    "# El ejemplo anteriol debuelve un nuevo array que aounta a los mismos datos \n",
    "# Nota: Modificaciones en el array modificara el otro array\n",
    "array2 = array1.reshape(4,7)\n",
    "print(\"shape:\",array2.shape)\n",
    "print(\"Array:\\n\",array2)"
   ]
  },
  {
   "cell_type": "code",
   "execution_count": 27,
   "id": "3afdd21a-e65d-46e3-83bd-0f24e245dc02",
   "metadata": {},
   "outputs": [
    {
     "name": "stdout",
     "output_type": "stream",
     "text": [
      "Array2:\n",
      " [[ 0  1  2  3  4  5  6]\n",
      " [ 7  8  9 30 11 12 13]\n",
      " [14 15 16 17 18 19 20]\n",
      " [21 22 23 24 25 26 27]]\n"
     ]
    }
   ],
   "source": [
    "# Modificacion del nuevo array devuelto \n",
    "array2[1,3] = 30\n",
    "print(\"Array2:\\n\",array2)"
   ]
  },
  {
   "cell_type": "code",
   "execution_count": 28,
   "id": "9c0f02ba-5b0a-456e-8412-8d64ccfee07a",
   "metadata": {},
   "outputs": [
    {
     "name": "stdout",
     "output_type": "stream",
     "text": [
      "Array1:\n",
      " [[ 0  1  2  3]\n",
      " [ 4  5  6  7]\n",
      " [ 8  9 30 11]\n",
      " [12 13 14 15]\n",
      " [16 17 18 19]\n",
      " [20 21 22 23]\n",
      " [24 25 26 27]]\n"
     ]
    }
   ],
   "source": [
    "print(\"Array1:\\n\",array1)"
   ]
  },
  {
   "cell_type": "code",
   "execution_count": 29,
   "id": "175ea204-cefd-455d-a034-c9ee3ec2db58",
   "metadata": {},
   "outputs": [
    {
     "name": "stdout",
     "output_type": "stream",
     "text": [
      "Array1: [ 0  1  2  3  4  5  6  7  8  9 30 11 12 13 14 15 16 17 18 19 20 21 22 23\n",
      " 24 25 26 27]\n"
     ]
    }
   ],
   "source": [
    "# Devolver el array a su estado original\n",
    "print(\"Array1:\",array1.ravel())"
   ]
  },
  {
   "cell_type": "markdown",
   "id": "a2e912a2-83e1-4549-99fb-ae0e53a8544b",
   "metadata": {},
   "source": [
    "## Operaciones aritmeticas con Arrays\n"
   ]
  },
  {
   "cell_type": "code",
   "execution_count": 30,
   "id": "0574b8f7-56ed-4839-99da-2036bf556408",
   "metadata": {},
   "outputs": [
    {
     "name": "stdout",
     "output_type": "stream",
     "text": [
      "Array 1:\n",
      " [ 2  4  6  8 10 12 14 16]\n",
      "Array 2:\n",
      " [0 1 2 3 4 5 6 7]\n"
     ]
    }
   ],
   "source": [
    "array1 = np.arange (2,18,2)\n",
    "array2 = np.arange(8)\n",
    "print(\"Array 1:\\n\",array1)\n",
    "print(\"Array 2:\\n\",array2)\n"
   ]
  },
  {
   "cell_type": "code",
   "execution_count": 31,
   "id": "2d3f2566-6d09-4fa5-b2ac-ff434acc95ea",
   "metadata": {},
   "outputs": [
    {
     "name": "stdout",
     "output_type": "stream",
     "text": [
      "[ 2  5  8 11 14 17 20 23]\n"
     ]
    }
   ],
   "source": [
    "# Suma\n",
    "print(array1+array2)"
   ]
  },
  {
   "cell_type": "code",
   "execution_count": 32,
   "id": "840107c7-fcc2-4d7a-8212-b664c7bc7152",
   "metadata": {},
   "outputs": [
    {
     "name": "stdout",
     "output_type": "stream",
     "text": [
      "[2 3 4 5 6 7 8 9]\n"
     ]
    }
   ],
   "source": [
    "# Resta \n",
    "print(array1-array2)\n"
   ]
  },
  {
   "cell_type": "code",
   "execution_count": 33,
   "id": "695055e6-2ca0-4abd-b286-4a1fbce36be9",
   "metadata": {},
   "outputs": [
    {
     "name": "stdout",
     "output_type": "stream",
     "text": [
      "[  0   4  12  24  40  60  84 112]\n"
     ]
    }
   ],
   "source": [
    "# Multiplicacion\n",
    "# Nota : no es una multiplicacionde matrices.\n",
    "print(array1*array2)"
   ]
  },
  {
   "cell_type": "markdown",
   "id": "23fc98da-0813-4862-8b3e-1de5138468a1",
   "metadata": {},
   "source": [
    "## Broadcasting \n",
    "Si se aplican operaciones aritmeticas sobre arrays que no tienen la misma forma (shape), Numpy aplica una propiedad que se llama Broadcasting."
   ]
  },
  {
   "cell_type": "code",
   "execution_count": 34,
   "id": "613a7a85-ee0f-468d-a10d-e786deb5770c",
   "metadata": {},
   "outputs": [
    {
     "name": "stdout",
     "output_type": "stream",
     "text": [
      "shape: (5,)\n",
      "Array1:\n",
      " [0 1 2 3 4]\n",
      "\n",
      "\n",
      "shape: (1,)\n",
      "Array:\n",
      " [3]\n"
     ]
    }
   ],
   "source": [
    "array1 = np.arange(5)\n",
    "array2 = np.array([3])\n",
    "print(\"shape:\",array1.shape)\n",
    "print(\"Array1:\\n\",array1)\n",
    "print(\"\\n\")\n",
    "print(\"shape:\",array2.shape)\n",
    "print(\"Array:\\n\",array2)\n"
   ]
  },
  {
   "cell_type": "code",
   "execution_count": 35,
   "id": "28e8767a-43cb-4656-99d2-fa0b3d90defb",
   "metadata": {},
   "outputs": [
    {
     "data": {
      "text/plain": [
       "array([3, 4, 5, 6, 7])"
      ]
     },
     "execution_count": 35,
     "metadata": {},
     "output_type": "execute_result"
    }
   ],
   "source": [
    "# Suma de amos Arrays\n",
    "array1+array2"
   ]
  },
  {
   "cell_type": "code",
   "execution_count": 36,
   "id": "4e19b5b9-49fd-4408-b426-d35a3c4c918d",
   "metadata": {},
   "outputs": [
    {
     "data": {
      "text/plain": [
       "array([ 0,  3,  6,  9, 12])"
      ]
     },
     "execution_count": 36,
     "metadata": {},
     "output_type": "execute_result"
    }
   ],
   "source": [
    "# Multiplicacion de ambos Arrays \n",
    "array1*array2"
   ]
  },
  {
   "cell_type": "markdown",
   "id": "701920ce-7a8c-42fd-a4f7-05bbd5b22649",
   "metadata": {},
   "source": [
    "## Funciones estadisticas sobre arrays"
   ]
  },
  {
   "cell_type": "code",
   "execution_count": 37,
   "id": "355669e1-f273-4152-8d4b-5e6482aa1a60",
   "metadata": {},
   "outputs": [
    {
     "name": "stdout",
     "output_type": "stream",
     "text": [
      "Array1:\n",
      " [ 1  3  5  7  9 11 13 15 17 19]\n"
     ]
    }
   ],
   "source": [
    "# Creacion de un array unidimensional \n",
    "array1 = np.arange(1,20,2)\n",
    "print(\"Array1:\\n\",array1)"
   ]
  },
  {
   "cell_type": "code",
   "execution_count": 38,
   "id": "2b9cb0b9-7aa8-419a-905c-b206dff7542f",
   "metadata": {},
   "outputs": [
    {
     "data": {
      "text/plain": [
       "10.0"
      ]
     },
     "execution_count": 38,
     "metadata": {},
     "output_type": "execute_result"
    }
   ],
   "source": [
    "# Media de los elementos del array\n",
    "array1.mean()"
   ]
  },
  {
   "cell_type": "code",
   "execution_count": 39,
   "id": "80282d05-cea4-41df-872e-6a215ba5de29",
   "metadata": {},
   "outputs": [
    {
     "data": {
      "text/plain": [
       "100"
      ]
     },
     "execution_count": 39,
     "metadata": {},
     "output_type": "execute_result"
    }
   ],
   "source": [
    "# Suma de los elementos del Array\n",
    "array1.sum()"
   ]
  },
  {
   "cell_type": "markdown",
   "id": "aeaf7039-27bb-43fd-bc6e-1a9932791749",
   "metadata": {},
   "source": [
    "# Funciones universales proporcionadas por numpt:ufunc"
   ]
  },
  {
   "cell_type": "code",
   "execution_count": 40,
   "id": "764645a6-2249-45a7-8ced-597ae1c21ba5",
   "metadata": {},
   "outputs": [
    {
     "data": {
      "text/plain": [
       "array([  1,   9,  25,  49,  81, 121, 169, 225, 289, 361])"
      ]
     },
     "execution_count": 40,
     "metadata": {},
     "output_type": "execute_result"
    }
   ],
   "source": [
    "# Cuadrado de los elementos del array\n",
    "np.square(array1)"
   ]
  },
  {
   "cell_type": "code",
   "execution_count": 41,
   "id": "5a7e560b-79d9-4bb0-b46c-c4825cf3f2ed",
   "metadata": {},
   "outputs": [
    {
     "data": {
      "text/plain": [
       "array([1.        , 1.73205081, 2.23606798, 2.64575131, 3.        ,\n",
       "       3.31662479, 3.60555128, 3.87298335, 4.12310563, 4.35889894])"
      ]
     },
     "execution_count": 41,
     "metadata": {},
     "output_type": "execute_result"
    }
   ],
   "source": [
    "# Raiz cuadrada de los elementos del array\n",
    "np.sqrt(array1)"
   ]
  },
  {
   "cell_type": "code",
   "execution_count": 42,
   "id": "2cbc5872-d80b-4ccd-8f19-e362489022a8",
   "metadata": {},
   "outputs": [
    {
     "data": {
      "text/plain": [
       "array([2.71828183e+00, 2.00855369e+01, 1.48413159e+02, 1.09663316e+03,\n",
       "       8.10308393e+03, 5.98741417e+04, 4.42413392e+05, 3.26901737e+06,\n",
       "       2.41549528e+07, 1.78482301e+08])"
      ]
     },
     "execution_count": 42,
     "metadata": {},
     "output_type": "execute_result"
    }
   ],
   "source": [
    "# Exponencial de los elementos del array.\n",
    "np.exp(array1)"
   ]
  },
  {
   "cell_type": "code",
   "execution_count": 43,
   "id": "58969e9f-a514-4502-8fcb-d0c1383aee4f",
   "metadata": {},
   "outputs": [
    {
     "data": {
      "text/plain": [
       "array([0.        , 1.09861229, 1.60943791, 1.94591015, 2.19722458,\n",
       "       2.39789527, 2.56494936, 2.7080502 , 2.83321334, 2.94443898])"
      ]
     },
     "execution_count": 43,
     "metadata": {},
     "output_type": "execute_result"
    }
   ],
   "source": [
    "# log de los elementos del array \n",
    "np.log(array1)"
   ]
  },
  {
   "cell_type": "markdown",
   "id": "860d0f8d-1144-4b7e-81e2-ec7d804f5924",
   "metadata": {},
   "source": [
    "## FIN"
   ]
  }
 ],
 "metadata": {
  "kernelspec": {
   "display_name": "Python 3 (ipykernel)",
   "language": "python",
   "name": "python3"
  },
  "language_info": {
   "codemirror_mode": {
    "name": "ipython",
    "version": 3
   },
   "file_extension": ".py",
   "mimetype": "text/x-python",
   "name": "python",
   "nbconvert_exporter": "python",
   "pygments_lexer": "ipython3",
   "version": "3.11.9"
  }
 },
 "nbformat": 4,
 "nbformat_minor": 5
}
